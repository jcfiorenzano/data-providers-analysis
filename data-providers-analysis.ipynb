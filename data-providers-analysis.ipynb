{
 "cells": [
  {
   "cell_type": "code",
   "execution_count": 3,
   "metadata": {},
   "outputs": [
    {
     "data": {
      "text/html": [
       "<div>\n",
       "<style scoped>\n",
       "    .dataframe tbody tr th:only-of-type {\n",
       "        vertical-align: middle;\n",
       "    }\n",
       "\n",
       "    .dataframe tbody tr th {\n",
       "        vertical-align: top;\n",
       "    }\n",
       "\n",
       "    .dataframe thead th {\n",
       "        text-align: right;\n",
       "    }\n",
       "</style>\n",
       "<table border=\"1\" class=\"dataframe\">\n",
       "  <thead>\n",
       "    <tr style=\"text-align: right;\">\n",
       "      <th></th>\n",
       "      <th>index</th>\n",
       "      <th>2</th>\n",
       "      <th>138</th>\n",
       "      <th>748</th>\n",
       "      <th>65616</th>\n",
       "      <th>WS-2015-0042</th>\n",
       "      <th>v2:b70509f9-a16c-4c1f-94e5-552026852631</th>\n",
       "      <th>1</th>\n",
       "      <th>12</th>\n",
       "      <th>{\"WhiteSource\":{\"Url\":\"https://github.com/fabric/fabric/issues/1341\"}}</th>\n",
       "      <th>...</th>\n",
       "      <th>v6:315e89fa5a2042f08dc1671e845bcbd2</th>\n",
       "      <th>0</th>\n",
       "      <th>{\"WhiteSource\":{\"Url\":\"https://vuln.whitesourcesoftware.com/vulnerability/CVE-2020-35908\"}}</th>\n",
       "      <th>4085</th>\n",
       "      <th>1743</th>\n",
       "      <th>5998771</th>\n",
       "      <th>CVE-2019-18413</th>\n",
       "      <th>v6:9c55c248e54f40dd8d631bcb6d1342d8</th>\n",
       "      <th>3</th>\n",
       "      <th>{\"GitHubAdvisories\":{\"Url\":\"https://nvd.nist.gov/vuln/detail/CVE-2019-18413\"},\"WhiteSource\":{\"Url\":\"https://vuln.whitesourcesoftware.com/vulnerability/CVE-2019-18413\"}}</th>\n",
       "    </tr>\n",
       "  </thead>\n",
       "  <tbody>\n",
       "    <tr>\n",
       "      <th>0</th>\n",
       "      <td>0</td>\n",
       "      <td>4.0</td>\n",
       "      <td>11.0</td>\n",
       "      <td>7.0</td>\n",
       "      <td>97799.0</td>\n",
       "      <td>CVE-2022-39353</td>\n",
       "      <td>v6:e3089068ab2344299bbc0d5427fc5b86</td>\n",
       "      <td>3.0</td>\n",
       "      <td>2.0</td>\n",
       "      <td>{\"GitHubAdvisories\":{\"Url\":\"https://github.com...</td>\n",
       "      <td>...</td>\n",
       "      <td>NaN</td>\n",
       "      <td>NaN</td>\n",
       "      <td>NaN</td>\n",
       "      <td>NaN</td>\n",
       "      <td>NaN</td>\n",
       "      <td>NaN</td>\n",
       "      <td>NaN</td>\n",
       "      <td>NaN</td>\n",
       "      <td>NaN</td>\n",
       "      <td>NaN</td>\n",
       "    </tr>\n",
       "    <tr>\n",
       "      <th>1</th>\n",
       "      <td>1</td>\n",
       "      <td>4.0</td>\n",
       "      <td>11.0</td>\n",
       "      <td>7.0</td>\n",
       "      <td>40320.0</td>\n",
       "      <td>CVE-2017-12964</td>\n",
       "      <td>v6:dc35c9c8bb76489e8c86bf112a93d03c</td>\n",
       "      <td>2.0</td>\n",
       "      <td>2.0</td>\n",
       "      <td>{\"WhiteSource\":{\"Url\":\"https://vuln.whitesourc...</td>\n",
       "      <td>...</td>\n",
       "      <td>NaN</td>\n",
       "      <td>NaN</td>\n",
       "      <td>NaN</td>\n",
       "      <td>NaN</td>\n",
       "      <td>NaN</td>\n",
       "      <td>NaN</td>\n",
       "      <td>NaN</td>\n",
       "      <td>NaN</td>\n",
       "      <td>NaN</td>\n",
       "      <td>NaN</td>\n",
       "    </tr>\n",
       "    <tr>\n",
       "      <th>2</th>\n",
       "      <td>2</td>\n",
       "      <td>4.0</td>\n",
       "      <td>11.0</td>\n",
       "      <td>7.0</td>\n",
       "      <td>303.0</td>\n",
       "      <td>CVE-2015-8855</td>\n",
       "      <td>v2:e40eaeec-f67b-4f36-8607-440202e3f8ec</td>\n",
       "      <td>2.0</td>\n",
       "      <td>2.0</td>\n",
       "      <td>{\"GitHubAdvisories\":{\"Url\":\"https://nvd.nist.g...</td>\n",
       "      <td>...</td>\n",
       "      <td>NaN</td>\n",
       "      <td>NaN</td>\n",
       "      <td>NaN</td>\n",
       "      <td>NaN</td>\n",
       "      <td>NaN</td>\n",
       "      <td>NaN</td>\n",
       "      <td>NaN</td>\n",
       "      <td>NaN</td>\n",
       "      <td>NaN</td>\n",
       "      <td>NaN</td>\n",
       "    </tr>\n",
       "    <tr>\n",
       "      <th>3</th>\n",
       "      <td>3</td>\n",
       "      <td>4.0</td>\n",
       "      <td>11.0</td>\n",
       "      <td>7.0</td>\n",
       "      <td>2011.0</td>\n",
       "      <td>CVE-2017-16026</td>\n",
       "      <td>v2:fff06527-9f4b-4bf4-9e36-a70e9908df6b</td>\n",
       "      <td>1.0</td>\n",
       "      <td>2.0</td>\n",
       "      <td>{\"GitHubAdvisories\":{\"Url\":\"https://nvd.nist.g...</td>\n",
       "      <td>...</td>\n",
       "      <td>NaN</td>\n",
       "      <td>NaN</td>\n",
       "      <td>NaN</td>\n",
       "      <td>NaN</td>\n",
       "      <td>NaN</td>\n",
       "      <td>NaN</td>\n",
       "      <td>NaN</td>\n",
       "      <td>NaN</td>\n",
       "      <td>NaN</td>\n",
       "      <td>NaN</td>\n",
       "    </tr>\n",
       "    <tr>\n",
       "      <th>4</th>\n",
       "      <td>4</td>\n",
       "      <td>4.0</td>\n",
       "      <td>11.0</td>\n",
       "      <td>7.0</td>\n",
       "      <td>48874.0</td>\n",
       "      <td>CVE-2020-7746</td>\n",
       "      <td>v6:f31efae2c56943e39b398b81c4f93205</td>\n",
       "      <td>2.0</td>\n",
       "      <td>2.0</td>\n",
       "      <td>{\"GitHubAdvisories\":{\"Url\":\"https://nvd.nist.g...</td>\n",
       "      <td>...</td>\n",
       "      <td>NaN</td>\n",
       "      <td>NaN</td>\n",
       "      <td>NaN</td>\n",
       "      <td>NaN</td>\n",
       "      <td>NaN</td>\n",
       "      <td>NaN</td>\n",
       "      <td>NaN</td>\n",
       "      <td>NaN</td>\n",
       "      <td>NaN</td>\n",
       "      <td>NaN</td>\n",
       "    </tr>\n",
       "    <tr>\n",
       "      <th>...</th>\n",
       "      <td>...</td>\n",
       "      <td>...</td>\n",
       "      <td>...</td>\n",
       "      <td>...</td>\n",
       "      <td>...</td>\n",
       "      <td>...</td>\n",
       "      <td>...</td>\n",
       "      <td>...</td>\n",
       "      <td>...</td>\n",
       "      <td>...</td>\n",
       "      <td>...</td>\n",
       "      <td>...</td>\n",
       "      <td>...</td>\n",
       "      <td>...</td>\n",
       "      <td>...</td>\n",
       "      <td>...</td>\n",
       "      <td>...</td>\n",
       "      <td>...</td>\n",
       "      <td>...</td>\n",
       "      <td>...</td>\n",
       "      <td>...</td>\n",
       "    </tr>\n",
       "    <tr>\n",
       "      <th>19633</th>\n",
       "      <td>2514</td>\n",
       "      <td>9.0</td>\n",
       "      <td>NaN</td>\n",
       "      <td>NaN</td>\n",
       "      <td>NaN</td>\n",
       "      <td>NaN</td>\n",
       "      <td>NaN</td>\n",
       "      <td>3.0</td>\n",
       "      <td>NaN</td>\n",
       "      <td>NaN</td>\n",
       "      <td>...</td>\n",
       "      <td>NaN</td>\n",
       "      <td>NaN</td>\n",
       "      <td>NaN</td>\n",
       "      <td>161654.0</td>\n",
       "      <td>185959.0</td>\n",
       "      <td>5600566.0</td>\n",
       "      <td>CVE-2019-14562</td>\n",
       "      <td>v6:d95ab93c404948a68d395a0669e22b8f</td>\n",
       "      <td>0.0</td>\n",
       "      <td>{\"WhiteSource\":{\"Url\":\"https://cve.mitre.org/c...</td>\n",
       "    </tr>\n",
       "    <tr>\n",
       "      <th>19634</th>\n",
       "      <td>2515</td>\n",
       "      <td>9.0</td>\n",
       "      <td>NaN</td>\n",
       "      <td>NaN</td>\n",
       "      <td>NaN</td>\n",
       "      <td>NaN</td>\n",
       "      <td>NaN</td>\n",
       "      <td>3.0</td>\n",
       "      <td>NaN</td>\n",
       "      <td>NaN</td>\n",
       "      <td>...</td>\n",
       "      <td>NaN</td>\n",
       "      <td>NaN</td>\n",
       "      <td>NaN</td>\n",
       "      <td>161654.0</td>\n",
       "      <td>185959.0</td>\n",
       "      <td>5600569.0</td>\n",
       "      <td>CVE-2021-28210</td>\n",
       "      <td>v6:4336276a04ed417d8652286035fad0c8</td>\n",
       "      <td>1.0</td>\n",
       "      <td>{\"WhiteSource\":{\"Url\":\"https://cve.mitre.org/c...</td>\n",
       "    </tr>\n",
       "    <tr>\n",
       "      <th>19635</th>\n",
       "      <td>2516</td>\n",
       "      <td>9.0</td>\n",
       "      <td>NaN</td>\n",
       "      <td>NaN</td>\n",
       "      <td>NaN</td>\n",
       "      <td>NaN</td>\n",
       "      <td>NaN</td>\n",
       "      <td>3.0</td>\n",
       "      <td>NaN</td>\n",
       "      <td>NaN</td>\n",
       "      <td>...</td>\n",
       "      <td>NaN</td>\n",
       "      <td>NaN</td>\n",
       "      <td>NaN</td>\n",
       "      <td>161654.0</td>\n",
       "      <td>185959.0</td>\n",
       "      <td>8047656.0</td>\n",
       "      <td>CVE-2021-38578</td>\n",
       "      <td>v6:7e040ad399634d3d95a951bf3356fbd3</td>\n",
       "      <td>2.0</td>\n",
       "      <td>{\"WhiteSource\":{\"Url\":\"https://vuln.whitesourc...</td>\n",
       "    </tr>\n",
       "    <tr>\n",
       "      <th>19636</th>\n",
       "      <td>2517</td>\n",
       "      <td>9.0</td>\n",
       "      <td>NaN</td>\n",
       "      <td>NaN</td>\n",
       "      <td>NaN</td>\n",
       "      <td>NaN</td>\n",
       "      <td>NaN</td>\n",
       "      <td>3.0</td>\n",
       "      <td>NaN</td>\n",
       "      <td>NaN</td>\n",
       "      <td>...</td>\n",
       "      <td>NaN</td>\n",
       "      <td>NaN</td>\n",
       "      <td>NaN</td>\n",
       "      <td>161654.0</td>\n",
       "      <td>185959.0</td>\n",
       "      <td>6707960.0</td>\n",
       "      <td>CVE-2021-38577</td>\n",
       "      <td>v6:22ea0bba55f54af0b4061accc30e5eba</td>\n",
       "      <td>2.0</td>\n",
       "      <td>{\"WhiteSource\":{\"Url\":\"https://vuln.whitesourc...</td>\n",
       "    </tr>\n",
       "    <tr>\n",
       "      <th>19637</th>\n",
       "      <td>2518</td>\n",
       "      <td>8.0</td>\n",
       "      <td>NaN</td>\n",
       "      <td>NaN</td>\n",
       "      <td>NaN</td>\n",
       "      <td>NaN</td>\n",
       "      <td>NaN</td>\n",
       "      <td>3.0</td>\n",
       "      <td>NaN</td>\n",
       "      <td>NaN</td>\n",
       "      <td>...</td>\n",
       "      <td>NaN</td>\n",
       "      <td>NaN</td>\n",
       "      <td>NaN</td>\n",
       "      <td>168232.0</td>\n",
       "      <td>204223.0</td>\n",
       "      <td>8212044.0</td>\n",
       "      <td>CVE-2022-21797</td>\n",
       "      <td>v6:2789de39dbe44f329f1d9fb974b17927</td>\n",
       "      <td>3.0</td>\n",
       "      <td>{\"GitHubAdvisories\":{\"Url\":\"https://nvd.nist.g...</td>\n",
       "    </tr>\n",
       "  </tbody>\n",
       "</table>\n",
       "<p>19638 rows × 32 columns</p>\n",
       "</div>"
      ],
      "text/plain": [
       "       index    2   138  748    65616    WS-2015-0042  \\\n",
       "0          0  4.0  11.0  7.0  97799.0  CVE-2022-39353   \n",
       "1          1  4.0  11.0  7.0  40320.0  CVE-2017-12964   \n",
       "2          2  4.0  11.0  7.0    303.0   CVE-2015-8855   \n",
       "3          3  4.0  11.0  7.0   2011.0  CVE-2017-16026   \n",
       "4          4  4.0  11.0  7.0  48874.0   CVE-2020-7746   \n",
       "...      ...  ...   ...  ...      ...             ...   \n",
       "19633   2514  9.0   NaN  NaN      NaN             NaN   \n",
       "19634   2515  9.0   NaN  NaN      NaN             NaN   \n",
       "19635   2516  9.0   NaN  NaN      NaN             NaN   \n",
       "19636   2517  9.0   NaN  NaN      NaN             NaN   \n",
       "19637   2518  8.0   NaN  NaN      NaN             NaN   \n",
       "\n",
       "       v2:b70509f9-a16c-4c1f-94e5-552026852631    1   12  \\\n",
       "0          v6:e3089068ab2344299bbc0d5427fc5b86  3.0  2.0   \n",
       "1          v6:dc35c9c8bb76489e8c86bf112a93d03c  2.0  2.0   \n",
       "2      v2:e40eaeec-f67b-4f36-8607-440202e3f8ec  2.0  2.0   \n",
       "3      v2:fff06527-9f4b-4bf4-9e36-a70e9908df6b  1.0  2.0   \n",
       "4          v6:f31efae2c56943e39b398b81c4f93205  2.0  2.0   \n",
       "...                                        ...  ...  ...   \n",
       "19633                                      NaN  3.0  NaN   \n",
       "19634                                      NaN  3.0  NaN   \n",
       "19635                                      NaN  3.0  NaN   \n",
       "19636                                      NaN  3.0  NaN   \n",
       "19637                                      NaN  3.0  NaN   \n",
       "\n",
       "      {\"WhiteSource\":{\"Url\":\"https://github.com/fabric/fabric/issues/1341\"}}  \\\n",
       "0      {\"GitHubAdvisories\":{\"Url\":\"https://github.com...                       \n",
       "1      {\"WhiteSource\":{\"Url\":\"https://vuln.whitesourc...                       \n",
       "2      {\"GitHubAdvisories\":{\"Url\":\"https://nvd.nist.g...                       \n",
       "3      {\"GitHubAdvisories\":{\"Url\":\"https://nvd.nist.g...                       \n",
       "4      {\"GitHubAdvisories\":{\"Url\":\"https://nvd.nist.g...                       \n",
       "...                                                  ...                       \n",
       "19633                                                NaN                       \n",
       "19634                                                NaN                       \n",
       "19635                                                NaN                       \n",
       "19636                                                NaN                       \n",
       "19637                                                NaN                       \n",
       "\n",
       "       ...  v6:315e89fa5a2042f08dc1671e845bcbd2   0  \\\n",
       "0      ...                                  NaN NaN   \n",
       "1      ...                                  NaN NaN   \n",
       "2      ...                                  NaN NaN   \n",
       "3      ...                                  NaN NaN   \n",
       "4      ...                                  NaN NaN   \n",
       "...    ...                                  ...  ..   \n",
       "19633  ...                                  NaN NaN   \n",
       "19634  ...                                  NaN NaN   \n",
       "19635  ...                                  NaN NaN   \n",
       "19636  ...                                  NaN NaN   \n",
       "19637  ...                                  NaN NaN   \n",
       "\n",
       "       {\"WhiteSource\":{\"Url\":\"https://vuln.whitesourcesoftware.com/vulnerability/CVE-2020-35908\"}}  \\\n",
       "0                                                    NaN                                             \n",
       "1                                                    NaN                                             \n",
       "2                                                    NaN                                             \n",
       "3                                                    NaN                                             \n",
       "4                                                    NaN                                             \n",
       "...                                                  ...                                             \n",
       "19633                                                NaN                                             \n",
       "19634                                                NaN                                             \n",
       "19635                                                NaN                                             \n",
       "19636                                                NaN                                             \n",
       "19637                                                NaN                                             \n",
       "\n",
       "           4085      1743    5998771  CVE-2019-18413  \\\n",
       "0           NaN       NaN        NaN             NaN   \n",
       "1           NaN       NaN        NaN             NaN   \n",
       "2           NaN       NaN        NaN             NaN   \n",
       "3           NaN       NaN        NaN             NaN   \n",
       "4           NaN       NaN        NaN             NaN   \n",
       "...         ...       ...        ...             ...   \n",
       "19633  161654.0  185959.0  5600566.0  CVE-2019-14562   \n",
       "19634  161654.0  185959.0  5600569.0  CVE-2021-28210   \n",
       "19635  161654.0  185959.0  8047656.0  CVE-2021-38578   \n",
       "19636  161654.0  185959.0  6707960.0  CVE-2021-38577   \n",
       "19637  168232.0  204223.0  8212044.0  CVE-2022-21797   \n",
       "\n",
       "       v6:9c55c248e54f40dd8d631bcb6d1342d8    3  \\\n",
       "0                                      NaN  NaN   \n",
       "1                                      NaN  NaN   \n",
       "2                                      NaN  NaN   \n",
       "3                                      NaN  NaN   \n",
       "4                                      NaN  NaN   \n",
       "...                                    ...  ...   \n",
       "19633  v6:d95ab93c404948a68d395a0669e22b8f  0.0   \n",
       "19634  v6:4336276a04ed417d8652286035fad0c8  1.0   \n",
       "19635  v6:7e040ad399634d3d95a951bf3356fbd3  2.0   \n",
       "19636  v6:22ea0bba55f54af0b4061accc30e5eba  2.0   \n",
       "19637  v6:2789de39dbe44f329f1d9fb974b17927  3.0   \n",
       "\n",
       "       {\"GitHubAdvisories\":{\"Url\":\"https://nvd.nist.gov/vuln/detail/CVE-2019-18413\"},\"WhiteSource\":{\"Url\":\"https://vuln.whitesourcesoftware.com/vulnerability/CVE-2019-18413\"}}  \n",
       "0                                                    NaN                                                                                                                         \n",
       "1                                                    NaN                                                                                                                         \n",
       "2                                                    NaN                                                                                                                         \n",
       "3                                                    NaN                                                                                                                         \n",
       "4                                                    NaN                                                                                                                         \n",
       "...                                                  ...                                                                                                                         \n",
       "19633  {\"WhiteSource\":{\"Url\":\"https://cve.mitre.org/c...                                                                                                                         \n",
       "19634  {\"WhiteSource\":{\"Url\":\"https://cve.mitre.org/c...                                                                                                                         \n",
       "19635  {\"WhiteSource\":{\"Url\":\"https://vuln.whitesourc...                                                                                                                         \n",
       "19636  {\"WhiteSource\":{\"Url\":\"https://vuln.whitesourc...                                                                                                                         \n",
       "19637  {\"GitHubAdvisories\":{\"Url\":\"https://nvd.nist.g...                                                                                                                         \n",
       "\n",
       "[19638 rows x 32 columns]"
      ]
     },
     "execution_count": 3,
     "metadata": {},
     "output_type": "execute_result"
    }
   ],
   "source": [
    "# Load the data\n",
    "import pandas as pd\n",
    "import json\n",
    "\n",
    "data_frame_wcus = pd.DataFrame(pd.read_csv(\"./data/alert-source-investigation-wcus-db1.csv\"))\n",
    "data_frame_wus2_db1 = pd.DataFrame(pd.read_csv(\"./data/alert-source-investigation-wus2-db1.csv\"))\n",
    "data_frame_wus2_db2 = pd.DataFrame(pd.read_csv(\"./data/alert-source-investigation-wus2-db2.csv\"))\n",
    "data_frame_wus2_db3 = pd.DataFrame(pd.read_csv(\"./data/alert-source-investigation-wus2-db3.csv\"))\n",
    "\n",
    "data_frame = pd.concat([data_frame_wcus, data_frame_wus2_db1, data_frame_wus2_db2, data_frame_wus2_db3], sort=False)\n",
    "\n",
    "data_frame.reset_index()"
   ]
  },
  {
   "cell_type": "code",
   "execution_count": 4,
   "metadata": {},
   "outputs": [
    {
     "ename": "KeyError",
     "evalue": "Index(['alertkey'], dtype='object')",
     "output_type": "error",
     "traceback": [
      "\u001b[0;31m---------------------------------------------------------------------------\u001b[0m",
      "\u001b[0;31mKeyError\u001b[0m                                  Traceback (most recent call last)",
      "Cell \u001b[0;32mIn[4], line 2\u001b[0m\n\u001b[1;32m      1\u001b[0m \u001b[39m# remove duplicate alertkey\u001b[39;00m\n\u001b[0;32m----> 2\u001b[0m data_frame \u001b[39m=\u001b[39m data_frame\u001b[39m.\u001b[39;49mdrop_duplicates(subset\u001b[39m=\u001b[39;49m[\u001b[39m'\u001b[39;49m\u001b[39malertkey\u001b[39;49m\u001b[39m'\u001b[39;49m], keep\u001b[39m=\u001b[39;49m\u001b[39m'\u001b[39;49m\u001b[39mfirst\u001b[39;49m\u001b[39m'\u001b[39;49m)\n",
      "File \u001b[0;32m~/dev/data-providers-analysis/venv/lib/python3.9/site-packages/pandas/util/_decorators.py:331\u001b[0m, in \u001b[0;36mdeprecate_nonkeyword_arguments.<locals>.decorate.<locals>.wrapper\u001b[0;34m(*args, **kwargs)\u001b[0m\n\u001b[1;32m    325\u001b[0m \u001b[39mif\u001b[39;00m \u001b[39mlen\u001b[39m(args) \u001b[39m>\u001b[39m num_allow_args:\n\u001b[1;32m    326\u001b[0m     warnings\u001b[39m.\u001b[39mwarn(\n\u001b[1;32m    327\u001b[0m         msg\u001b[39m.\u001b[39mformat(arguments\u001b[39m=\u001b[39m_format_argument_list(allow_args)),\n\u001b[1;32m    328\u001b[0m         \u001b[39mFutureWarning\u001b[39;00m,\n\u001b[1;32m    329\u001b[0m         stacklevel\u001b[39m=\u001b[39mfind_stack_level(),\n\u001b[1;32m    330\u001b[0m     )\n\u001b[0;32m--> 331\u001b[0m \u001b[39mreturn\u001b[39;00m func(\u001b[39m*\u001b[39;49margs, \u001b[39m*\u001b[39;49m\u001b[39m*\u001b[39;49mkwargs)\n",
      "File \u001b[0;32m~/dev/data-providers-analysis/venv/lib/python3.9/site-packages/pandas/core/frame.py:6669\u001b[0m, in \u001b[0;36mDataFrame.drop_duplicates\u001b[0;34m(self, subset, keep, inplace, ignore_index)\u001b[0m\n\u001b[1;32m   6667\u001b[0m inplace \u001b[39m=\u001b[39m validate_bool_kwarg(inplace, \u001b[39m\"\u001b[39m\u001b[39minplace\u001b[39m\u001b[39m\"\u001b[39m)\n\u001b[1;32m   6668\u001b[0m ignore_index \u001b[39m=\u001b[39m validate_bool_kwarg(ignore_index, \u001b[39m\"\u001b[39m\u001b[39mignore_index\u001b[39m\u001b[39m\"\u001b[39m)\n\u001b[0;32m-> 6669\u001b[0m duplicated \u001b[39m=\u001b[39m \u001b[39mself\u001b[39;49m\u001b[39m.\u001b[39;49mduplicated(subset, keep\u001b[39m=\u001b[39;49mkeep)\n\u001b[1;32m   6671\u001b[0m result \u001b[39m=\u001b[39m \u001b[39mself\u001b[39m[\u001b[39m-\u001b[39mduplicated]\n\u001b[1;32m   6672\u001b[0m \u001b[39mif\u001b[39;00m ignore_index:\n",
      "File \u001b[0;32m~/dev/data-providers-analysis/venv/lib/python3.9/site-packages/pandas/core/frame.py:6803\u001b[0m, in \u001b[0;36mDataFrame.duplicated\u001b[0;34m(self, subset, keep)\u001b[0m\n\u001b[1;32m   6801\u001b[0m diff \u001b[39m=\u001b[39m \u001b[39mset\u001b[39m(subset) \u001b[39m-\u001b[39m \u001b[39mset\u001b[39m(\u001b[39mself\u001b[39m\u001b[39m.\u001b[39mcolumns)\n\u001b[1;32m   6802\u001b[0m \u001b[39mif\u001b[39;00m diff:\n\u001b[0;32m-> 6803\u001b[0m     \u001b[39mraise\u001b[39;00m \u001b[39mKeyError\u001b[39;00m(Index(diff))\n\u001b[1;32m   6805\u001b[0m \u001b[39mif\u001b[39;00m \u001b[39mlen\u001b[39m(subset) \u001b[39m==\u001b[39m \u001b[39m1\u001b[39m \u001b[39mand\u001b[39;00m \u001b[39mself\u001b[39m\u001b[39m.\u001b[39mcolumns\u001b[39m.\u001b[39mis_unique:\n\u001b[1;32m   6806\u001b[0m     \u001b[39m# GH#45236 This is faster than get_group_index below\u001b[39;00m\n\u001b[1;32m   6807\u001b[0m     result \u001b[39m=\u001b[39m \u001b[39mself\u001b[39m[subset[\u001b[39m0\u001b[39m]]\u001b[39m.\u001b[39mduplicated(keep)\n",
      "\u001b[0;31mKeyError\u001b[0m: Index(['alertkey'], dtype='object')"
     ]
    }
   ],
   "source": [
    "# remove duplicate alertkey\n",
    "data_frame = data_frame.drop_duplicates(subset=['alertkey'], keep='first')"
   ]
  },
  {
   "cell_type": "code",
   "execution_count": null,
   "metadata": {},
   "outputs": [],
   "source": [
    "# deconstruct the data to create an entry per source\n",
    "sources_df = pd.DataFrame({'alertkey':[],\n",
    "                            'source': [],\n",
    "                            'url':[]})\n",
    "\n",
    "# Deconstructing the sources data\n",
    "# to create one source per row\n",
    "for index, row in data_frame.iterrows():\n",
    "    json_sources = row['sources']\n",
    "    sources = json.loads(json_sources)\n",
    "    for key in sources.keys():\n",
    "        if key != \"TwC\":\n",
    "            sources_df = pd.concat([sources_df, pd.DataFrame({'alertkey': row['alertkey'], 'source': key, 'url': sources[key]})])\n",
    "\n",
    "data_frame.drop('sources', axis=1, inplace=True)\n",
    "data_frame = data_frame.merge(sources_df, left_on='alertkey', right_on='alertkey')"
   ]
  },
  {
   "cell_type": "code",
   "execution_count": null,
   "metadata": {},
   "outputs": [
    {
     "data": {
      "text/plain": [
       "<AxesSubplot:ylabel='alertkey'>"
      ]
     },
     "execution_count": 398,
     "metadata": {},
     "output_type": "execute_result"
    },
    {
     "data": {
      "image/png": "[encoded data removed]",
      "text/plain": [
       "<Figure size 720x720 with 1 Axes>"
      ]
     },
     "metadata": {},
     "output_type": "display_data"
    }
   ],
   "source": [
    "# Alerts distribution by data providers\n",
    "data_frame[data_frame['component_type'] != 9].groupby('source')['alertkey'] .count() .plot(kind='pie', textprops={'fontsize':15, 'color':'white'}, figsize=(10,10), autopct='%1.2f%%')"
   ]
  },
  {
   "cell_type": "code",
   "execution_count": null,
   "metadata": {},
   "outputs": [],
   "source": [
    "\n",
    "# components types that support security vulnerabilities\n",
    "ct_dict = { \"component_type_id\" : [1,2,3,6,7,8,9,10,12,13,14],\n",
    "            \"component_type_name\" : [ \"NuGet\", \"Npm\", \"Maven\", \"RubyGems\", \"Cargo\", \"Pip\", \"File\", \"Go\", \"Pod\", \"Linux\", \"Conda\"]\n",
    "}\n",
    "component_types = pd.DataFrame(ct_dict)"
   ]
  },
  {
   "cell_type": "code",
   "execution_count": null,
   "metadata": {},
   "outputs": [],
   "source": [
    "\n",
    "# alert severities\n",
    "sev_dict = { \"severity_id\" : [0,1,2,3],\n",
    "            \"severity_name\" : [\"Low\", \"Medium\", \"High\", \"Critical\"]\n",
    "}\n",
    "severities = pd.DataFrame(sev_dict)"
   ]
  },
  {
   "cell_type": "code",
   "execution_count": null,
   "metadata": {},
   "outputs": [
    {
     "data": {
      "text/plain": [
       "6.590986106404609"
      ]
     },
     "execution_count": 372,
     "metadata": {},
     "output_type": "execute_result"
    }
   ],
   "source": [
    "# Percentage of alerts that are only found in GA\n",
    "ga_alerts = data_frame[data_frame['source'] == 'GitHubAdvisories']\n",
    "no_ga_alerts = data_frame[data_frame['source'] != 'GitHubAdvisories']\n",
    "# some alerts are found in multiple sources, doing this we guarantee that we are going to get\n",
    "# only the alerts that have only one source and that source is GithubAdvisories\n",
    "only_ga = ga_alerts[~ga_alerts['alertkey'].isin(no_ga_alerts['alertkey'])]\n",
    "(only_ga.shape[0]/data_frame.shape[0])*100"
   ]
  },
  {
   "cell_type": "code",
   "execution_count": null,
   "metadata": {},
   "outputs": [
    {
     "data": {
      "image/png": "[encoded data removed]",
      "text/plain": [
       "<Figure size 432x288 with 1 Axes>"
      ]
     },
     "metadata": {},
     "output_type": "display_data"
    }
   ],
   "source": [
    "# Distribution of vulnerabilities ids from alerts found only by GA\n",
    "\n",
    "from matplotlib import pyplot as plt\n",
    "\n",
    "ghsa = only_ga.title.str.startswith('GHSA', na=False).sum()\n",
    "cve = only_ga.title.str.startswith('CVE', na=False).sum()\n",
    "other = only_ga.shape[0] - ghsa - cve\n",
    "\n",
    "plt.pie([ghsa, cve, other], labels=[\"GHSA\", \"CVE\", \"Other\"], textprops={'color':\"white\", 'fontsize':12}, autopct='%1.2f%%')\n",
    "plt.show()"
   ]
  },
  {
   "cell_type": "code",
   "execution_count": null,
   "metadata": {},
   "outputs": [
    {
     "data": {
      "image/png": "[encoded data removed]",
      "text/plain": [
       "<Figure size 432x288 with 1 Axes>"
      ]
     },
     "metadata": {},
     "output_type": "display_data"
    }
   ],
   "source": [
    "# Distribution of vulnerabilities ids for alerts that were only found by WS\n",
    "\n",
    "from matplotlib import pyplot as plt\n",
    "\n",
    "ws = only_ws.title.str.startswith('WS', na=False).sum()\n",
    "cve = only_ws.title.str.startswith('CVE', na=False).sum()\n",
    "other = only_ws.shape[0] - ws - cve\n",
    "\n",
    "plt.pie([ws, cve, other], labels=[\"WS\", \"CVE\", \"Other\"], textprops={'color':\"white\", 'fontsize':12}, autopct='%1.2f%%')\n",
    "plt.show()"
   ]
  },
  {
   "cell_type": "code",
   "execution_count": null,
   "metadata": {},
   "outputs": [
    {
     "data": {
      "text/plain": [
       "<AxesSubplot:ylabel='alertkey'>"
      ]
     },
     "execution_count": 375,
     "metadata": {},
     "output_type": "execute_result"
    },
    {
     "data": {
      "image/png": "[encoded data removed]",
      "text/plain": [
       "<Figure size 720x720 with 1 Axes>"
      ]
     },
     "metadata": {},
     "output_type": "display_data"
    }
   ],
   "source": [
    "# Component types of the CVE alerts that where only found by WS\n",
    "\n",
    "ws_cve_alerts = only_ws[only_ws.title.str.startswith('CVE', na=False)]\n",
    "ws_cve_alerts = ws_cve_alerts.merge(component_types, left_on='component_type', right_on='component_type_id')\n",
    "ws_cve_alerts.groupby('component_type_name')['alertkey'].count().plot(kind='pie', textprops={'fontsize':15, 'color':'white'}, figsize=(10,10),autopct='%1.2f%%', pctdistance=1.1,\n",
    "labeldistance=1.24)"
   ]
  },
  {
   "cell_type": "code",
   "execution_count": null,
   "metadata": {},
   "outputs": [
    {
     "data": {
      "text/html": [
       "<div>\n",
       "<style scoped>\n",
       "    .dataframe tbody tr th:only-of-type {\n",
       "        vertical-align: middle;\n",
       "    }\n",
       "\n",
       "    .dataframe tbody tr th {\n",
       "        vertical-align: top;\n",
       "    }\n",
       "\n",
       "    .dataframe thead th {\n",
       "        text-align: right;\n",
       "    }\n",
       "</style>\n",
       "<table border=\"1\" class=\"dataframe\">\n",
       "  <thead>\n",
       "    <tr style=\"text-align: right;\">\n",
       "      <th></th>\n",
       "      <th>partitionid</th>\n",
       "      <th>dataspaceid</th>\n",
       "      <th>repositoryid</th>\n",
       "      <th>alertid</th>\n",
       "      <th>title</th>\n",
       "      <th>alertkey</th>\n",
       "      <th>severity</th>\n",
       "      <th>component_type</th>\n",
       "      <th>source</th>\n",
       "      <th>url</th>\n",
       "      <th>component_type_id</th>\n",
       "      <th>component_type_name</th>\n",
       "    </tr>\n",
       "  </thead>\n",
       "  <tbody>\n",
       "    <tr>\n",
       "      <th>1422</th>\n",
       "      <td>4</td>\n",
       "      <td>11</td>\n",
       "      <td>269</td>\n",
       "      <td>79038</td>\n",
       "      <td>CVE-2020-13936</td>\n",
       "      <td>v6:f1df5f3f7e124bf8bf169434206c129c</td>\n",
       "      <td>3</td>\n",
       "      <td>3</td>\n",
       "      <td>WhiteSource</td>\n",
       "      <td>https://vuln.whitesourcesoftware.com/vulnerabi...</td>\n",
       "      <td>3</td>\n",
       "      <td>Maven</td>\n",
       "    </tr>\n",
       "    <tr>\n",
       "      <th>1423</th>\n",
       "      <td>4</td>\n",
       "      <td>11</td>\n",
       "      <td>269</td>\n",
       "      <td>75676</td>\n",
       "      <td>CVE-2021-38153</td>\n",
       "      <td>v6:6188cc5cf91c40038219f3de60967ad9</td>\n",
       "      <td>1</td>\n",
       "      <td>3</td>\n",
       "      <td>WhiteSource</td>\n",
       "      <td>https://vuln.whitesourcesoftware.com/vulnerabi...</td>\n",
       "      <td>3</td>\n",
       "      <td>Maven</td>\n",
       "    </tr>\n",
       "    <tr>\n",
       "      <th>1424</th>\n",
       "      <td>4</td>\n",
       "      <td>11</td>\n",
       "      <td>269</td>\n",
       "      <td>78196</td>\n",
       "      <td>CVE-2021-44548</td>\n",
       "      <td>v6:662177f0c70b425db259dd6915633e9b</td>\n",
       "      <td>1</td>\n",
       "      <td>3</td>\n",
       "      <td>WhiteSource</td>\n",
       "      <td>https://vuln.whitesourcesoftware.com/vulnerabi...</td>\n",
       "      <td>3</td>\n",
       "      <td>Maven</td>\n",
       "    </tr>\n",
       "    <tr>\n",
       "      <th>1425</th>\n",
       "      <td>4</td>\n",
       "      <td>11</td>\n",
       "      <td>269</td>\n",
       "      <td>72982</td>\n",
       "      <td>CVE-2021-32827</td>\n",
       "      <td>v6:468db02f3db44d169341187a63b21fc2</td>\n",
       "      <td>1</td>\n",
       "      <td>3</td>\n",
       "      <td>WhiteSource</td>\n",
       "      <td>https://vuln.whitesourcesoftware.com/vulnerabi...</td>\n",
       "      <td>3</td>\n",
       "      <td>Maven</td>\n",
       "    </tr>\n",
       "    <tr>\n",
       "      <th>1426</th>\n",
       "      <td>4</td>\n",
       "      <td>11</td>\n",
       "      <td>269</td>\n",
       "      <td>62076</td>\n",
       "      <td>CVE-2013-2192</td>\n",
       "      <td>v6:e18de5a2eced4060a839b8199c64f06a</td>\n",
       "      <td>0</td>\n",
       "      <td>3</td>\n",
       "      <td>WhiteSource</td>\n",
       "      <td>https://vuln.whitesourcesoftware.com/vulnerabi...</td>\n",
       "      <td>3</td>\n",
       "      <td>Maven</td>\n",
       "    </tr>\n",
       "    <tr>\n",
       "      <th>...</th>\n",
       "      <td>...</td>\n",
       "      <td>...</td>\n",
       "      <td>...</td>\n",
       "      <td>...</td>\n",
       "      <td>...</td>\n",
       "      <td>...</td>\n",
       "      <td>...</td>\n",
       "      <td>...</td>\n",
       "      <td>...</td>\n",
       "      <td>...</td>\n",
       "      <td>...</td>\n",
       "      <td>...</td>\n",
       "    </tr>\n",
       "    <tr>\n",
       "      <th>1852</th>\n",
       "      <td>37650</td>\n",
       "      <td>277162</td>\n",
       "      <td>195794</td>\n",
       "      <td>7004586</td>\n",
       "      <td>CVE-2020-7021</td>\n",
       "      <td>v6:f5cc055aab23497886faec11253270fa</td>\n",
       "      <td>1</td>\n",
       "      <td>3</td>\n",
       "      <td>WhiteSource</td>\n",
       "      <td>https://vuln.whitesourcesoftware.com/vulnerabi...</td>\n",
       "      <td>3</td>\n",
       "      <td>Maven</td>\n",
       "    </tr>\n",
       "    <tr>\n",
       "      <th>1853</th>\n",
       "      <td>38746</td>\n",
       "      <td>283804</td>\n",
       "      <td>197639</td>\n",
       "      <td>7056651</td>\n",
       "      <td>CVE-2020-10693</td>\n",
       "      <td>v6:d425e44e1d7c4b84a2040063a7d63e9c</td>\n",
       "      <td>1</td>\n",
       "      <td>3</td>\n",
       "      <td>WhiteSource</td>\n",
       "      <td>https://vuln.whitesourcesoftware.com/vulnerabi...</td>\n",
       "      <td>3</td>\n",
       "      <td>Maven</td>\n",
       "    </tr>\n",
       "    <tr>\n",
       "      <th>1854</th>\n",
       "      <td>38746</td>\n",
       "      <td>283804</td>\n",
       "      <td>197639</td>\n",
       "      <td>7056669</td>\n",
       "      <td>CVE-2018-11040</td>\n",
       "      <td>v2:b81ee1e5-cc9d-40a3-92d3-e7017d8753dd</td>\n",
       "      <td>1</td>\n",
       "      <td>3</td>\n",
       "      <td>WhiteSource</td>\n",
       "      <td>https://vuln.whitesourcesoftware.com/vulnerabi...</td>\n",
       "      <td>3</td>\n",
       "      <td>Maven</td>\n",
       "    </tr>\n",
       "    <tr>\n",
       "      <th>1855</th>\n",
       "      <td>38746</td>\n",
       "      <td>283804</td>\n",
       "      <td>197639</td>\n",
       "      <td>7056639</td>\n",
       "      <td>CVE-2020-2875</td>\n",
       "      <td>v6:45e674ba704c4afb9b20a78df6dca06c</td>\n",
       "      <td>1</td>\n",
       "      <td>3</td>\n",
       "      <td>WhiteSource</td>\n",
       "      <td>https://vuln.whitesourcesoftware.com/vulnerabi...</td>\n",
       "      <td>3</td>\n",
       "      <td>Maven</td>\n",
       "    </tr>\n",
       "    <tr>\n",
       "      <th>1856</th>\n",
       "      <td>38510</td>\n",
       "      <td>282286</td>\n",
       "      <td>197278</td>\n",
       "      <td>7049419</td>\n",
       "      <td>CVE-2021-28170</td>\n",
       "      <td>v6:ca0e2f1edd104299b1b95ba53d10cb0c</td>\n",
       "      <td>1</td>\n",
       "      <td>3</td>\n",
       "      <td>WhiteSource</td>\n",
       "      <td>https://vuln.whitesourcesoftware.com/vulnerabi...</td>\n",
       "      <td>3</td>\n",
       "      <td>Maven</td>\n",
       "    </tr>\n",
       "  </tbody>\n",
       "</table>\n",
       "<p>435 rows × 12 columns</p>\n",
       "</div>"
      ],
      "text/plain": [
       "      partitionid  dataspaceid  repositoryid  alertid           title  \\\n",
       "1422            4           11           269    79038  CVE-2020-13936   \n",
       "1423            4           11           269    75676  CVE-2021-38153   \n",
       "1424            4           11           269    78196  CVE-2021-44548   \n",
       "1425            4           11           269    72982  CVE-2021-32827   \n",
       "1426            4           11           269    62076   CVE-2013-2192   \n",
       "...           ...          ...           ...      ...             ...   \n",
       "1852        37650       277162        195794  7004586   CVE-2020-7021   \n",
       "1853        38746       283804        197639  7056651  CVE-2020-10693   \n",
       "1854        38746       283804        197639  7056669  CVE-2018-11040   \n",
       "1855        38746       283804        197639  7056639   CVE-2020-2875   \n",
       "1856        38510       282286        197278  7049419  CVE-2021-28170   \n",
       "\n",
       "                                     alertkey  severity  component_type  \\\n",
       "1422      v6:f1df5f3f7e124bf8bf169434206c129c         3               3   \n",
       "1423      v6:6188cc5cf91c40038219f3de60967ad9         1               3   \n",
       "1424      v6:662177f0c70b425db259dd6915633e9b         1               3   \n",
       "1425      v6:468db02f3db44d169341187a63b21fc2         1               3   \n",
       "1426      v6:e18de5a2eced4060a839b8199c64f06a         0               3   \n",
       "...                                       ...       ...             ...   \n",
       "1852      v6:f5cc055aab23497886faec11253270fa         1               3   \n",
       "1853      v6:d425e44e1d7c4b84a2040063a7d63e9c         1               3   \n",
       "1854  v2:b81ee1e5-cc9d-40a3-92d3-e7017d8753dd         1               3   \n",
       "1855      v6:45e674ba704c4afb9b20a78df6dca06c         1               3   \n",
       "1856      v6:ca0e2f1edd104299b1b95ba53d10cb0c         1               3   \n",
       "\n",
       "           source                                                url  \\\n",
       "1422  WhiteSource  https://vuln.whitesourcesoftware.com/vulnerabi...   \n",
       "1423  WhiteSource  https://vuln.whitesourcesoftware.com/vulnerabi...   \n",
       "1424  WhiteSource  https://vuln.whitesourcesoftware.com/vulnerabi...   \n",
       "1425  WhiteSource  https://vuln.whitesourcesoftware.com/vulnerabi...   \n",
       "1426  WhiteSource  https://vuln.whitesourcesoftware.com/vulnerabi...   \n",
       "...           ...                                                ...   \n",
       "1852  WhiteSource  https://vuln.whitesourcesoftware.com/vulnerabi...   \n",
       "1853  WhiteSource  https://vuln.whitesourcesoftware.com/vulnerabi...   \n",
       "1854  WhiteSource  https://vuln.whitesourcesoftware.com/vulnerabi...   \n",
       "1855  WhiteSource  https://vuln.whitesourcesoftware.com/vulnerabi...   \n",
       "1856  WhiteSource  https://vuln.whitesourcesoftware.com/vulnerabi...   \n",
       "\n",
       "      component_type_id component_type_name  \n",
       "1422                  3               Maven  \n",
       "1423                  3               Maven  \n",
       "1424                  3               Maven  \n",
       "1425                  3               Maven  \n",
       "1426                  3               Maven  \n",
       "...                 ...                 ...  \n",
       "1852                  3               Maven  \n",
       "1853                  3               Maven  \n",
       "1854                  3               Maven  \n",
       "1855                  3               Maven  \n",
       "1856                  3               Maven  \n",
       "\n",
       "[435 rows x 12 columns]"
      ]
     },
     "execution_count": 376,
     "metadata": {},
     "output_type": "execute_result"
    }
   ],
   "source": [
    "# Alerts for a specific component type\n",
    "\n",
    "ws_cve_alerts = only_ws[only_ws.title.str.startswith('CVE', na=False)]\n",
    "ws_cve_alerts = ws_cve_alerts.merge(component_types, left_on='component_type', right_on='component_type_id')\n",
    "ws_cve_alerts[ws_cve_alerts.component_type_name == \"Maven\"]"
   ]
  },
  {
   "cell_type": "code",
   "execution_count": null,
   "metadata": {},
   "outputs": [
    {
     "data": {
      "text/plain": [
       "42.019654354456115"
      ]
     },
     "execution_count": 377,
     "metadata": {},
     "output_type": "execute_result"
    }
   ],
   "source": [
    "# percentage of alerts are only covered by WhiteSource\n",
    "ws_alerts = data_frame[data_frame['source'] == 'WhiteSource']\n",
    "no_ws_alerts = data_frame[data_frame['source'] != 'WhiteSource']\n",
    "only_ws = ws_alerts[~ws_alerts['alertkey'].isin(no_ws_alerts['alertkey'])]\n",
    "(only_ws.shape[0]/data_frame.shape[0]) * 100"
   ]
  },
  {
   "cell_type": "code",
   "execution_count": null,
   "metadata": {},
   "outputs": [
    {
     "data": {
      "text/plain": [
       "19.60594315245478"
      ]
     },
     "execution_count": 378,
     "metadata": {},
     "output_type": "execute_result"
    }
   ],
   "source": [
    "# percentage of whitesource alerts that are also found in github advisories\n",
    "ws_alerts_covered_by_ga = ga_alerts[ga_alerts[\"alertkey\"].isin(ws_alerts['alertkey'])]\n",
    "(ws_alerts_covered_by_ga.shape[0]/ws_alerts.shape[0]) * 100"
   ]
  },
  {
   "cell_type": "code",
   "execution_count": null,
   "metadata": {},
   "outputs": [
    {
     "data": {
      "text/plain": [
       "44.017403915881076"
      ]
     },
     "execution_count": 379,
     "metadata": {},
     "output_type": "execute_result"
    }
   ],
   "source": [
    "# percentage of whitesource alerts that are also found in github advisories considering only component types that both providers support\n",
    "ws_alerts_covered_by_ga = ga_alerts[ga_alerts[\"alertkey\"].isin(ws_alerts['alertkey'])]\n",
    "ws_same_ct_alerts = ws_alerts[ws_alerts.component_type.isin(ga_alerts.component_type)]\n",
    "(ws_alerts_covered_by_ga.shape[0]/ws_same_ct_alerts.shape[0]) * 100"
   ]
  },
  {
   "cell_type": "code",
   "execution_count": null,
   "metadata": {},
   "outputs": [
    {
     "data": {
      "text/html": [
       "<div>\n",
       "<style scoped>\n",
       "    .dataframe tbody tr th:only-of-type {\n",
       "        vertical-align: middle;\n",
       "    }\n",
       "\n",
       "    .dataframe tbody tr th {\n",
       "        vertical-align: top;\n",
       "    }\n",
       "\n",
       "    .dataframe thead th {\n",
       "        text-align: right;\n",
       "    }\n",
       "</style>\n",
       "<table border=\"1\" class=\"dataframe\">\n",
       "  <thead>\n",
       "    <tr style=\"text-align: right;\">\n",
       "      <th></th>\n",
       "      <th>component_type_id</th>\n",
       "      <th>component_type_name</th>\n",
       "    </tr>\n",
       "  </thead>\n",
       "  <tbody>\n",
       "    <tr>\n",
       "      <th>4</th>\n",
       "      <td>7</td>\n",
       "      <td>Cargo</td>\n",
       "    </tr>\n",
       "    <tr>\n",
       "      <th>6</th>\n",
       "      <td>9</td>\n",
       "      <td>File</td>\n",
       "    </tr>\n",
       "    <tr>\n",
       "      <th>7</th>\n",
       "      <td>10</td>\n",
       "      <td>Go</td>\n",
       "    </tr>\n",
       "  </tbody>\n",
       "</table>\n",
       "</div>"
      ],
      "text/plain": [
       "   component_type_id component_type_name\n",
       "4                  7               Cargo\n",
       "6                  9                File\n",
       "7                 10                  Go"
      ]
     },
     "execution_count": 380,
     "metadata": {},
     "output_type": "execute_result"
    }
   ],
   "source": [
    "# Components Types that are only covered by WS\n",
    "ct_only_covered_ws = ows_ct_data[~ows_ct_data[\"component_type\"].isin(no_ws_alerts[\"component_type\"])][\"component_type\"]\n",
    "component_types[component_types[\"component_type_id\"].isin(ct_only_covered_ws)]\n"
   ]
  },
  {
   "cell_type": "code",
   "execution_count": null,
   "metadata": {},
   "outputs": [
    {
     "data": {
      "text/plain": [
       "(2480, 12)"
      ]
     },
     "execution_count": 400,
     "metadata": {},
     "output_type": "execute_result"
    }
   ],
   "source": [
    "# Component Types of the alerts that were reported only by WS\n",
    "ows_ct_data = only_ws.merge(component_types, left_on='component_type', right_on='component_type_id')\n",
    "\n",
    "ows_ct_data.shape\n",
    "\n",
    "#ows_ct_data.groupby('component_type_name')['alertkey'].count().plot(kind='pie', textprops={'fontsize':15, 'color':'white'}, figsize=(10,10),autopct='%1.2f%%', pctdistance=1.1,\n",
    "#labeldistance=1.24)"
   ]
  },
  {
   "cell_type": "code",
   "execution_count": null,
   "metadata": {},
   "outputs": [
    {
     "data": {
      "text/plain": [
       "<AxesSubplot:ylabel='alertkey'>"
      ]
     },
     "execution_count": 382,
     "metadata": {},
     "output_type": "execute_result"
    },
    {
     "data": {
      "image/png": "[encoded data removed]",
      "text/plain": [
       "<Figure size 720x720 with 1 Axes>"
      ]
     },
     "metadata": {},
     "output_type": "display_data"
    }
   ],
   "source": [
    "# Severity of the alerts that were reported only by WS\n",
    "ows_sev_data = only_ws.merge(severities, left_on='severity', right_on='severity_id')\n",
    "ows_sev_data.groupby('severity_name')['alertkey'].count().plot(kind='pie', textprops={'fontsize':15, 'color':'white'}, figsize=(10,10),autopct='%1.2f%%', pctdistance=1.1,\n",
    "labeldistance=1.24)"
   ]
  },
  {
   "cell_type": "code",
   "execution_count": null,
   "metadata": {},
   "outputs": [
    {
     "data": {
      "text/plain": [
       "<AxesSubplot:ylabel='alertkey'>"
      ]
     },
     "execution_count": 392,
     "metadata": {},
     "output_type": "execute_result"
    },
    {
     "data": {
      "image/png": "[encoded data removed]",
      "text/plain": [
       "<Figure size 720x720 with 1 Axes>"
      ]
     },
     "metadata": {},
     "output_type": "display_data"
    }
   ],
   "source": [
    "# Severity of the alerts that were reported only by WS\n",
    "oga_sev_data = only_ga.merge(severities, left_on='severity', right_on='severity_id')\n",
    "oga_sev_data.groupby('severity_name')['alertkey'].count().plot(kind='pie', textprops={'fontsize':15, 'color':'white'}, figsize=(10,10),autopct='%1.2f%%', pctdistance=1.1,\n",
    "labeldistance=1.24)"
   ]
  },
  {
   "cell_type": "code",
   "execution_count": null,
   "metadata": {},
   "outputs": [
    {
     "data": {
      "text/plain": [
       "<AxesSubplot:ylabel='alertkey'>"
      ]
     },
     "execution_count": 389,
     "metadata": {},
     "output_type": "execute_result"
    },
    {
     "data": {
      "image/png": "[encoded data removed]",
      "text/plain": [
       "<Figure size 720x720 with 1 Axes>"
      ]
     },
     "metadata": {},
     "output_type": "display_data"
    }
   ],
   "source": [
    "# Component Types of the alerts that were reported only by Github Advisories\n",
    "oga_ct_data = ga_alerts.merge(component_types, left_on='component_type', right_on='component_type_id')\n",
    "oga_ct_data.groupby('component_type_name')['alertkey'].count().plot(kind='pie', textprops={'fontsize':15, 'color':'white'}, figsize=(10,10),autopct='%1.2f%%', labeldistance= 1.24)"
   ]
  },
  {
   "cell_type": "code",
   "execution_count": null,
   "metadata": {},
   "outputs": [
    {
     "data": {
      "text/html": [
       "<div>\n",
       "<style scoped>\n",
       "    .dataframe tbody tr th:only-of-type {\n",
       "        vertical-align: middle;\n",
       "    }\n",
       "\n",
       "    .dataframe tbody tr th {\n",
       "        vertical-align: top;\n",
       "    }\n",
       "\n",
       "    .dataframe thead th {\n",
       "        text-align: right;\n",
       "    }\n",
       "</style>\n",
       "<table border=\"1\" class=\"dataframe\">\n",
       "  <thead>\n",
       "    <tr style=\"text-align: right;\">\n",
       "      <th></th>\n",
       "      <th>component_type_id</th>\n",
       "      <th>component_type_name</th>\n",
       "    </tr>\n",
       "  </thead>\n",
       "  <tbody>\n",
       "    <tr>\n",
       "      <th>0</th>\n",
       "      <td>1</td>\n",
       "      <td>NuGet</td>\n",
       "    </tr>\n",
       "    <tr>\n",
       "      <th>1</th>\n",
       "      <td>2</td>\n",
       "      <td>Npm</td>\n",
       "    </tr>\n",
       "    <tr>\n",
       "      <th>2</th>\n",
       "      <td>3</td>\n",
       "      <td>Maven</td>\n",
       "    </tr>\n",
       "    <tr>\n",
       "      <th>3</th>\n",
       "      <td>6</td>\n",
       "      <td>RubyGems</td>\n",
       "    </tr>\n",
       "    <tr>\n",
       "      <th>5</th>\n",
       "      <td>8</td>\n",
       "      <td>Pip</td>\n",
       "    </tr>\n",
       "  </tbody>\n",
       "</table>\n",
       "</div>"
      ],
      "text/plain": [
       "   component_type_id component_type_name\n",
       "0                  1               NuGet\n",
       "1                  2                 Npm\n",
       "2                  3               Maven\n",
       "3                  6            RubyGems\n",
       "5                  8                 Pip"
      ]
     },
     "execution_count": 384,
     "metadata": {},
     "output_type": "execute_result"
    }
   ],
   "source": [
    "# components types that are covered\n",
    "component_types[ component_types[\"component_type_id\"].isin(ws_alerts_covered_by_ga[\"component_type\"])]"
   ]
  },
  {
   "cell_type": "code",
   "execution_count": null,
   "metadata": {},
   "outputs": [
    {
     "data": {
      "text/plain": [
       "severity\n",
       "0     264\n",
       "1    1622\n",
       "2     495\n",
       "3      99\n",
       "Name: alertkey, dtype: int64"
      ]
     },
     "execution_count": 385,
     "metadata": {},
     "output_type": "execute_result"
    }
   ],
   "source": [
    "# Severities of the alerts that are only covered by WS\n",
    "only_ws.groupby('severity')['alertkey'].count()"
   ]
  },
  {
   "cell_type": "code",
   "execution_count": null,
   "metadata": {},
   "outputs": [
    {
     "data": {
      "text/plain": [
       "4     Cargo\n",
       "6      File\n",
       "7        Go\n",
       "8       Pod\n",
       "9     Linux\n",
       "10    Conda\n",
       "Name: component_type_name, dtype: object"
      ]
     },
     "execution_count": 386,
     "metadata": {},
     "output_type": "execute_result"
    }
   ],
   "source": [
    "# What components types were not found in alerts from github advisories\n",
    "\n",
    "component_types[~component_types[\"component_type_id\"].isin(ga_alerts['component_type'])][\"component_type_name\"]\n",
    "\n",
    "\n"
   ]
  },
  {
   "cell_type": "code",
   "execution_count": null,
   "metadata": {},
   "outputs": [
    {
     "data": {
      "text/plain": [
       "source\n",
       "Alpine         217\n",
       "Debian         200\n",
       "OssIndex       258\n",
       "UbuntuCve      637\n",
       "WhiteSource    130\n",
       "Name: alertkey, dtype: int64"
      ]
     },
     "execution_count": 387,
     "metadata": {},
     "output_type": "execute_result"
    }
   ],
   "source": [
    "\n",
    "data_frame[data_frame[\"component_type\"] == 13].groupby(\"source\")[\"alertkey\"].count()"
   ]
  },
  {
   "cell_type": "code",
   "execution_count": null,
   "metadata": {},
   "outputs": [],
   "source": []
  }
 ],
 "metadata": {
  "kernelspec": {
   "display_name": "venv",
   "language": "python",
   "name": "python3"
  },
  "language_info": {
   "codemirror_mode": {
    "name": "ipython",
    "version": 3
   },
   "file_extension": ".py",
   "mimetype": "text/x-python",
   "name": "python",
   "nbconvert_exporter": "python",
   "pygments_lexer": "ipython3",
   "version": "3.9.4"
  },
  "orig_nbformat": 4,
  "vscode": {
   "interpreter": {
    "hash": "64d092282d9485c16c4cad8edd41e1f543433ac5437e0041c85abb099caf7d7b"
   }
  }
 },
 "nbformat": 4,
 "nbformat_minor": 2
}
